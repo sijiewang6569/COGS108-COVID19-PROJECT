{
 "cells": [
  {
   "cell_type": "markdown",
   "metadata": {},
   "source": [
    "# COGS 108 - Final Project Proposal\n",
    "# Names\n",
    "1. Zanyuan Yang\n",
    "2. Zihao Chen\n",
    "3. Alex Guo\n",
    "4. Yiyang Yin\n",
    "5. Sijie Wang"
   ]
  },
  {
   "cell_type": "markdown",
   "metadata": {},
   "source": [
    "# Group Members IDs\n",
    "1. A16079340\n",
    "2. A16085539\n",
    "3. A13907234\n",
    "4. A92112108\n",
    "5. A16061925"
   ]
  },
  {
   "cell_type": "markdown",
   "metadata": {},
   "source": [
    "# Research Question\n",
    "The Chinese government issued multiple quarantines on major cities in China to prevent coronavirus from further spreading. Did this decision really help to contain the disease?"
   ]
  },
  {
   "cell_type": "markdown",
   "metadata": {},
   "source": [
    "# Background and Prior Work\n",
    "Recently, the outbreak of coronavirus led to global panic; The virus is well known for causing respiratory diseases. The coronavirus was first detected in Wuhan City, Hubei Province, in China. The virus is highly contagious. According to the most recently updated news, “at least 213 people are dead and more than 9,709 cases have been confirmed in mainland China”. Besides, the virus has spread abroad, and most of the people who had been diagnosed to have coronavirus had traveled to Wuhan before returning. \n",
    "\n",
    "Under ferocious pressure from the outbreak of coronavirus, Wuhan decided to seal off the city from all outside contact to stop the spread of the coronavirus on January 23nd. Airplanes, trains, buses, and subways were all closed. This action was questioned by many media: “They are trying to quarantine a city of 11 million people, which are unprecedented, so it is difficult to say whether or not it will work at this stage”. Just before the city was quarantined at 10 am on January 23rd, over 300,000 people left Wuhan through high-speed rail. Besides the people who ran away from Wuhan, the “Wuhan quarantine” has also caused great panic among the people who left behind. After implementing the quarantine, Wuhan has lacked all sorts of supplies, such as face masks and other medical protection accessories in hospitals.  \n",
    "  \n",
    "Many statistic models of how this coronavirus could possibly spread have been created within the past few days, but rarely do they take into account the transportation factor and the quarantine that has been declared. For this project, we are going to collect data to describe how the coronavirus has been spreading, and compare the data to the statistic models, in the hope to produce an analysis on whether the quarantine has been useful or not.\n"
   ]
  },
  {
   "cell_type": "markdown",
   "metadata": {},
   "source": [
    "# Hypothesis\n",
    "Since it has been confirmed that the coronavirus spread among people who are in close contact, the quarantines declared by the Chinese government significantly reduced traffic between major cities during the Spring Festival, which had a positive effect on stopping the coronavirus from further spreading."
   ]
  },
  {
   "cell_type": "markdown",
   "metadata": {},
   "source": [
    "# Data\n",
    "## Dataset 1 - Novel Coronavirus (2019-nCoV) Cases, provided by JHU CSSE \n",
    "Link to dataset: https://docs.google.com/spreadsheets/d/1yZv9w9zRKwrGTaR-YzmAqMefw4wMlaXocejdxZaTs6w/htmlview?usp=sharing&sle=true\n",
    "1. 62 observations: each observation for one geographical state/province\n",
    "    - This dataset contains the most up-to-date number of confirmed, deaths, recovery cases and the time at which these numbers were last updated for each region\n",
    "    - Sources: WHO, CDC ECDC, NHC and DXY\n",
    "    - Provided by JHU CSSE\n",
    "2. For our research question, we chose to use:\n",
    "    - State/Province\n",
    "    - Number of confirmed cases for this region at each timestamp\n",
    "3. Problems with this dataset:\n",
    "    - The scope of the region is limited to “State/Province”, we can’t get observation for each city\n",
    "    - The number of confirmed cases may not be an accurate representation of number of people who actually have 2019-nCov\n",
    "  \n",
    "## Dataset 2 - Statistic model on tracking the spreading of disease\n",
    "Link to model: http://epirisk.net/  \n",
    "EpiRisk is a computational platform designed to allow a quick estimate of the probability of exporting infected individuals from sites affected by a disease outbreak to other areas in the world through the airline transportation network and the daily commuting patters. It also lets the user to explore the effects of potential restrictions applied to airline traffic and commuting flows."
   ]
  },
  {
   "cell_type": "markdown",
   "metadata": {},
   "source": [
    "# Ethics & Privacy\n",
    "All our datasets are collected from public records online, including numbers of global coronavirus cases, transportation ban records and time stamps of how the disease developed. They are collected and distributed by authorities such as the Chinese government or the Centers for Disease Control. Since these data are all open to access, we have permission to use them in our analysis, no privacy concerns in our project. In our datasets, we ignore all details on ethnic identity, age, gender or any other unspecified aspects of patients who are confirmed to have the coronavirus. In this way, we minimize the potential biases introduced into our experiment. Our goal is to include all coronavirus cases (even potential cases, if possible) to provide accurate quantitative analysis on the development of this ongoing epidemic.\n",
    "Although no data privacy issue has been identified for our project so far, we need to keep in mind to include all citations for resources used in this project. For some geological data, it may be necessary to use them under a specific license. "
   ]
  },
  {
   "cell_type": "markdown",
   "metadata": {},
   "source": [
    "# Team Expectations\n",
    "1. Each team member is supposed to participate in a  group meeting on Friday from 3 pm to 6 pm. If a team member can not attend the meeting, he/she has a responsibility to tell other members, group will schedule another meeting time\n",
    "\n",
    "2. All team members are expected to contribute equally across the entire final project. In specific portions of the project, each member of the group has specific responsibility. \n",
    "    - Yiyang is responsible for searching for possible datasets. \n",
    "    - Zihao and Sijie are responsible for analyzing dataset and writing well-commented and clear code. \n",
    "    - Zanyuan has a responsibility for writing the accompanying text through the project. \n",
    "    - Alex is responsible for editing the text and code through the project.\n",
    "\n",
    "3. If a team member refuses to cooperate or complete his/her assigned tasks that our group all have agreed upon on the project, other team members will first inform the uncooperative team member via email that he/she has not been pulling his/her weight and that he/she will need to demonstrate significant improvement within a week, spelling out specifically what must be completed. If there is no subsequent improvement, other team members will notify Professor Ellis. "
   ]
  },
  {
   "cell_type": "markdown",
   "metadata": {},
   "source": [
    "| Meeting Date  | Meeting Time| Completed Before Meeting  | Discuss at Meeting |\n",
    "|------|-------|------|-------|\n",
    "| 2/7  |  3 PM | Read & Think about COGS 108 expectations; brainstorm topics/questions  | Determine best form of communication; Start to do some research on the topic; Reannounce the policy and assignment for each group member|\n",
    "| 2/14  |  3 PM |  Do background research on topic | Select and edit collected data and information, and organize them; Discuss ideal dataset(s) and ethics; |\n",
    "| 2/21  | 3 PM  | Edit, finalize our datasets; | Discuss Wrangling and possible analytical approaches; Assign group members to lead each specific part again; rethink about how we gonna use and analyze them; Complete project check-in; |\n",
    "| 2/28  | 3 PM  | Import & Wrangle Data; | Review/Edit the relationship between the spread of the new coronavirus and the transportation system was analyzed; Discuss Analysis Plan   |\n",
    "| 3/6  | 3 PM  | Finalize the relationship between propagation speed and transportation; Begin Analysis other factors | Discuss/edit Analysis;|\n",
    "| 3/13  | 3 PM  | Complete analysis; Draft results/conclusion/discussion | Discuss/edit full project |\n",
    "| 3/13  | Before 11:59 PM  | NA | Turn in Final Project & Group Project Surveys |\n"
   ]
  },
  {
   "cell_type": "markdown",
   "metadata": {},
   "source": []
  }
 ],
 "metadata": {
  "kernelspec": {
   "display_name": "Python 3",
   "language": "python",
   "name": "python3"
  },
  "language_info": {
   "codemirror_mode": {
    "name": "ipython",
    "version": 3
   },
   "file_extension": ".py",
   "mimetype": "text/x-python",
   "name": "python",
   "nbconvert_exporter": "python",
   "pygments_lexer": "ipython3",
   "version": "3.7.3"
  }
 },
 "nbformat": 4,
 "nbformat_minor": 4
}
